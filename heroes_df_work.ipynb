{
 "cells": [
  {
   "cell_type": "markdown",
   "id": "f0db83fb-dfd3-45e1-aae6-0b66709dc7ce",
   "metadata": {},
   "source": [
    "### Для начала работы, нужно импортировать библиотеки для работы "
   ]
  },
  {
   "cell_type": "code",
   "execution_count": 365,
   "id": "58830ad7-f65b-4c4e-ab24-734b9238df4d",
   "metadata": {},
   "outputs": [],
   "source": [
    "import pandas as pd   \n",
    "import seaborn as sns    \n",
    "import matplotlib.pyplot as plt\n",
    "import warnings\n",
    "warnings.filterwarnings('ignore')"
   ]
  },
  {
   "cell_type": "markdown",
   "id": "8cea4c7b-898c-4138-8a9d-5ebccf2dacde",
   "metadata": {},
   "source": [
    "### Шаг 1. Обзор данных"
   ]
  },
  {
   "cell_type": "code",
   "execution_count": 368,
   "id": "8e276dda-f7a9-45f7-a217-bbd797883414",
   "metadata": {},
   "outputs": [
    {
     "data": {
      "text/html": [
       "<div>\n",
       "<style scoped>\n",
       "    .dataframe tbody tr th:only-of-type {\n",
       "        vertical-align: middle;\n",
       "    }\n",
       "\n",
       "    .dataframe tbody tr th {\n",
       "        vertical-align: top;\n",
       "    }\n",
       "\n",
       "    .dataframe thead th {\n",
       "        text-align: right;\n",
       "    }\n",
       "</style>\n",
       "<table border=\"1\" class=\"dataframe\">\n",
       "  <thead>\n",
       "    <tr style=\"text-align: right;\">\n",
       "      <th></th>\n",
       "      <th>Unnamed: 0</th>\n",
       "      <th>name</th>\n",
       "      <th>Gender</th>\n",
       "      <th>Eye color</th>\n",
       "      <th>Race</th>\n",
       "      <th>Hair color</th>\n",
       "      <th>Height</th>\n",
       "      <th>Publisher</th>\n",
       "      <th>Skin color</th>\n",
       "      <th>Alignment</th>\n",
       "      <th>Weight</th>\n",
       "    </tr>\n",
       "  </thead>\n",
       "  <tbody>\n",
       "    <tr>\n",
       "      <th>0</th>\n",
       "      <td>0</td>\n",
       "      <td>A-Bomb</td>\n",
       "      <td>Male</td>\n",
       "      <td>yellow</td>\n",
       "      <td>Human</td>\n",
       "      <td>No Hair</td>\n",
       "      <td>203.0</td>\n",
       "      <td>Marvel Comics</td>\n",
       "      <td>-</td>\n",
       "      <td>good</td>\n",
       "      <td>441.0</td>\n",
       "    </tr>\n",
       "    <tr>\n",
       "      <th>1</th>\n",
       "      <td>1</td>\n",
       "      <td>Abe Sapien</td>\n",
       "      <td>Male</td>\n",
       "      <td>blue</td>\n",
       "      <td>Icthyo Sapien</td>\n",
       "      <td>No Hair</td>\n",
       "      <td>191.0</td>\n",
       "      <td>Dark Horse Comics</td>\n",
       "      <td>blue</td>\n",
       "      <td>good</td>\n",
       "      <td>65.0</td>\n",
       "    </tr>\n",
       "    <tr>\n",
       "      <th>2</th>\n",
       "      <td>2</td>\n",
       "      <td>Abin Sur</td>\n",
       "      <td>Male</td>\n",
       "      <td>blue</td>\n",
       "      <td>Ungaran</td>\n",
       "      <td>No Hair</td>\n",
       "      <td>185.0</td>\n",
       "      <td>DC Comics</td>\n",
       "      <td>red</td>\n",
       "      <td>good</td>\n",
       "      <td>90.0</td>\n",
       "    </tr>\n",
       "    <tr>\n",
       "      <th>3</th>\n",
       "      <td>3</td>\n",
       "      <td>Abomination</td>\n",
       "      <td>Male</td>\n",
       "      <td>green</td>\n",
       "      <td>Human / Radiation</td>\n",
       "      <td>No Hair</td>\n",
       "      <td>203.0</td>\n",
       "      <td>Marvel Comics</td>\n",
       "      <td>-</td>\n",
       "      <td>bad</td>\n",
       "      <td>441.0</td>\n",
       "    </tr>\n",
       "    <tr>\n",
       "      <th>4</th>\n",
       "      <td>4</td>\n",
       "      <td>Abraxas</td>\n",
       "      <td>Male</td>\n",
       "      <td>blue</td>\n",
       "      <td>Cosmic Entity</td>\n",
       "      <td>Black</td>\n",
       "      <td>-99.0</td>\n",
       "      <td>Marvel Comics</td>\n",
       "      <td>-</td>\n",
       "      <td>bad</td>\n",
       "      <td>-99.0</td>\n",
       "    </tr>\n",
       "  </tbody>\n",
       "</table>\n",
       "</div>"
      ],
      "text/plain": [
       "   Unnamed: 0         name Gender Eye color               Race Hair color  \\\n",
       "0           0       A-Bomb   Male    yellow              Human    No Hair   \n",
       "1           1   Abe Sapien   Male      blue      Icthyo Sapien    No Hair   \n",
       "2           2     Abin Sur   Male      blue            Ungaran    No Hair   \n",
       "3           3  Abomination   Male     green  Human / Radiation    No Hair   \n",
       "4           4      Abraxas   Male      blue      Cosmic Entity      Black   \n",
       "\n",
       "   Height          Publisher Skin color Alignment  Weight  \n",
       "0   203.0      Marvel Comics          -      good   441.0  \n",
       "1   191.0  Dark Horse Comics       blue      good    65.0  \n",
       "2   185.0          DC Comics        red      good    90.0  \n",
       "3   203.0      Marvel Comics          -       bad   441.0  \n",
       "4   -99.0      Marvel Comics          -       bad   -99.0  "
      ]
     },
     "execution_count": 368,
     "metadata": {},
     "output_type": "execute_result"
    }
   ],
   "source": [
    "df_heroes = pd.read_csv(\"heroes_information.csv\")\n",
    "df_heroes.head(5)"
   ]
  },
  {
   "cell_type": "markdown",
   "id": "a28f94ef-9048-4b0c-a6e1-21e0cf57b019",
   "metadata": {},
   "source": [
    "Просмотрим информацию о представленной таблицы\n"
   ]
  },
  {
   "cell_type": "code",
   "execution_count": 370,
   "id": "4df396bd-a680-4517-b798-5d297911135f",
   "metadata": {},
   "outputs": [
    {
     "name": "stdout",
     "output_type": "stream",
     "text": [
      "<class 'pandas.core.frame.DataFrame'>\n",
      "RangeIndex: 734 entries, 0 to 733\n",
      "Data columns (total 11 columns):\n",
      " #   Column      Non-Null Count  Dtype  \n",
      "---  ------      --------------  -----  \n",
      " 0   Unnamed: 0  734 non-null    int64  \n",
      " 1   name        734 non-null    object \n",
      " 2   Gender      734 non-null    object \n",
      " 3   Eye color   734 non-null    object \n",
      " 4   Race        734 non-null    object \n",
      " 5   Hair color  734 non-null    object \n",
      " 6   Height      734 non-null    float64\n",
      " 7   Publisher   719 non-null    object \n",
      " 8   Skin color  734 non-null    object \n",
      " 9   Alignment   734 non-null    object \n",
      " 10  Weight      732 non-null    float64\n",
      "dtypes: float64(2), int64(1), object(8)\n",
      "memory usage: 63.2+ KB\n"
     ]
    }
   ],
   "source": [
    "df_heroes.info()"
   ]
  },
  {
   "cell_type": "markdown",
   "id": "16765a67-a4bc-4cb7-a1f2-f75c10e4cecd",
   "metadata": {},
   "source": [
    "#### Согласно документации к данным\n",
    "`Unnamed` - придположительно, это id\n",
    "\n",
    "`name` - имя персонажа\n",
    "\n",
    "`Gender` - пол персонажа\n",
    "\n",
    "`Eye color` - цвет глаз персонажа\n",
    "\n",
    "`Race` - раса персонажа\n",
    "\n",
    "`Hair color` - цвет волос\n",
    "\n",
    "`Height` - высота персонажа\n",
    "\n",
    "`Издатель` - Компания публикации\n",
    "\n",
    "`Skin color` - цвет кожи\n",
    "\n",
    "`Alignment` - намерение персонажа \n",
    "\n",
    "`Weight` - вес персонажа"
   ]
  },
  {
   "cell_type": "code",
   "execution_count": 373,
   "id": "85c719b4-b6c0-4aa0-8551-0ad066bd30b1",
   "metadata": {},
   "outputs": [
    {
     "data": {
      "text/plain": [
       "0"
      ]
     },
     "execution_count": 373,
     "metadata": {},
     "output_type": "execute_result"
    }
   ],
   "source": [
    "df_heroes.duplicated().sum()"
   ]
  },
  {
   "cell_type": "markdown",
   "id": "d8408e81-7835-4a59-97cb-2e1025f2fb7b",
   "metadata": {},
   "source": [
    "Входе просмотра были выявленны пустые значения"
   ]
  },
  {
   "cell_type": "code",
   "execution_count": 377,
   "id": "f589de2e-c4cd-4e92-a52f-841c7410bebf",
   "metadata": {},
   "outputs": [
    {
     "data": {
      "text/html": [
       "<div>\n",
       "<style scoped>\n",
       "    .dataframe tbody tr th:only-of-type {\n",
       "        vertical-align: middle;\n",
       "    }\n",
       "\n",
       "    .dataframe tbody tr th {\n",
       "        vertical-align: top;\n",
       "    }\n",
       "\n",
       "    .dataframe thead th {\n",
       "        text-align: right;\n",
       "    }\n",
       "</style>\n",
       "<table border=\"1\" class=\"dataframe\">\n",
       "  <thead>\n",
       "    <tr style=\"text-align: right;\">\n",
       "      <th></th>\n",
       "      <th>Unnamed: 0</th>\n",
       "      <th>Height</th>\n",
       "      <th>Weight</th>\n",
       "    </tr>\n",
       "  </thead>\n",
       "  <tbody>\n",
       "    <tr>\n",
       "      <th>count</th>\n",
       "      <td>734.000000</td>\n",
       "      <td>734.000000</td>\n",
       "      <td>732.000000</td>\n",
       "    </tr>\n",
       "    <tr>\n",
       "      <th>mean</th>\n",
       "      <td>366.500000</td>\n",
       "      <td>102.254087</td>\n",
       "      <td>43.855191</td>\n",
       "    </tr>\n",
       "    <tr>\n",
       "      <th>std</th>\n",
       "      <td>212.031837</td>\n",
       "      <td>139.624543</td>\n",
       "      <td>130.823733</td>\n",
       "    </tr>\n",
       "    <tr>\n",
       "      <th>min</th>\n",
       "      <td>0.000000</td>\n",
       "      <td>-99.000000</td>\n",
       "      <td>-99.000000</td>\n",
       "    </tr>\n",
       "    <tr>\n",
       "      <th>25%</th>\n",
       "      <td>183.250000</td>\n",
       "      <td>-99.000000</td>\n",
       "      <td>-99.000000</td>\n",
       "    </tr>\n",
       "    <tr>\n",
       "      <th>50%</th>\n",
       "      <td>366.500000</td>\n",
       "      <td>175.000000</td>\n",
       "      <td>62.000000</td>\n",
       "    </tr>\n",
       "    <tr>\n",
       "      <th>75%</th>\n",
       "      <td>549.750000</td>\n",
       "      <td>185.000000</td>\n",
       "      <td>90.000000</td>\n",
       "    </tr>\n",
       "    <tr>\n",
       "      <th>max</th>\n",
       "      <td>733.000000</td>\n",
       "      <td>975.000000</td>\n",
       "      <td>900.000000</td>\n",
       "    </tr>\n",
       "  </tbody>\n",
       "</table>\n",
       "</div>"
      ],
      "text/plain": [
       "       Unnamed: 0      Height      Weight\n",
       "count  734.000000  734.000000  732.000000\n",
       "mean   366.500000  102.254087   43.855191\n",
       "std    212.031837  139.624543  130.823733\n",
       "min      0.000000  -99.000000  -99.000000\n",
       "25%    183.250000  -99.000000  -99.000000\n",
       "50%    366.500000  175.000000   62.000000\n",
       "75%    549.750000  185.000000   90.000000\n",
       "max    733.000000  975.000000  900.000000"
      ]
     },
     "execution_count": 377,
     "metadata": {},
     "output_type": "execute_result"
    }
   ],
   "source": [
    "df_heroes.describe()"
   ]
  },
  {
   "cell_type": "markdown",
   "id": "6c50da7f-4987-40d0-ad87-2b94f2444645",
   "metadata": {},
   "source": [
    "В ходе просмотра были выявлены аномальные значения"
   ]
  },
  {
   "cell_type": "code",
   "execution_count": 380,
   "id": "7622fc28-ffd0-426b-80b8-1d2e223eae89",
   "metadata": {},
   "outputs": [
    {
     "data": {
      "text/plain": [
       "Unnamed: 0     0\n",
       "name           0\n",
       "Gender         0\n",
       "Eye color      0\n",
       "Race           0\n",
       "Hair color     0\n",
       "Height         0\n",
       "Publisher     15\n",
       "Skin color     0\n",
       "Alignment      0\n",
       "Weight         2\n",
       "dtype: int64"
      ]
     },
     "execution_count": 380,
     "metadata": {},
     "output_type": "execute_result"
    }
   ],
   "source": [
    "df_heroes.isna().sum()"
   ]
  },
  {
   "cell_type": "markdown",
   "id": "38f571d9-bb5a-4f8f-9d05-ccc35bd30a4b",
   "metadata": {},
   "source": [
    "Отоброжжение полей, которые имеют пустые значения"
   ]
  },
  {
   "cell_type": "markdown",
   "id": "790dcad7-dfbc-4aa1-bf77-32db5bbb0f13",
   "metadata": {},
   "source": [
    "просмотрим процетное отношение пустых значений"
   ]
  },
  {
   "cell_type": "code",
   "execution_count": 384,
   "id": "e76c09c4-5854-44c2-8b21-a1df067ccae1",
   "metadata": {},
   "outputs": [
    {
     "name": "stdout",
     "output_type": "stream",
     "text": [
      "Количество пропусков: Unnamed: 0 = 0.00 %\n",
      "Количество пропусков: name = 0.00 %\n",
      "Количество пропусков: Gender = 0.00 %\n",
      "Количество пропусков: Eye color = 0.00 %\n",
      "Количество пропусков: Race = 0.00 %\n",
      "Количество пропусков: Hair color = 0.00 %\n",
      "Количество пропусков: Height = 0.00 %\n",
      "Количество пропусков: Publisher = 2.04 %\n",
      "Количество пропусков: Skin color = 0.00 %\n",
      "Количество пропусков: Alignment = 0.00 %\n",
      "Количество пропусков: Weight = 0.27 %\n"
     ]
    }
   ],
   "source": [
    "for col in df_heroes.columns:\n",
    "    print(f\"Количество пропусков: {col} = {df_heroes[col].isna().sum() / df_heroes.shape[0] * 100:.2f} %\")"
   ]
  },
  {
   "cell_type": "markdown",
   "id": "f1619d61-9f34-4a13-8ea1-8c1b07d966f4",
   "metadata": {},
   "source": [
    "Просмотрели на процентное отношение пропусков, значения является не значительном, и мы их удалим"
   ]
  },
  {
   "cell_type": "code",
   "execution_count": 387,
   "id": "72c60ab9-9b45-415a-b51d-1f1e38cb73d4",
   "metadata": {},
   "outputs": [],
   "source": [
    "df_heroes.dropna(inplace=True)"
   ]
  },
  {
   "cell_type": "code",
   "execution_count": 388,
   "id": "41faa371-5c79-4d9b-afb9-72e0aac08522",
   "metadata": {},
   "outputs": [
    {
     "data": {
      "text/plain": [
       "Unnamed: 0    0\n",
       "name          0\n",
       "Gender        0\n",
       "Eye color     0\n",
       "Race          0\n",
       "Hair color    0\n",
       "Height        0\n",
       "Publisher     0\n",
       "Skin color    0\n",
       "Alignment     0\n",
       "Weight        0\n",
       "dtype: int64"
      ]
     },
     "execution_count": 388,
     "metadata": {},
     "output_type": "execute_result"
    }
   ],
   "source": [
    "df_heroes.isna().sum()"
   ]
  },
  {
   "cell_type": "code",
   "execution_count": 389,
   "id": "0c1a0894-c845-4ce7-a0d9-6b011e723c96",
   "metadata": {},
   "outputs": [],
   "source": [
    "df_heroes.reset_index(inplace=True)"
   ]
  },
  {
   "cell_type": "markdown",
   "id": "6dc6d034-07a9-4e70-8203-a35c12f3453c",
   "metadata": {},
   "source": [
    "так как мы удалил значения, нужно перезаписать индексы"
   ]
  },
  {
   "cell_type": "markdown",
   "id": "b9000afe-cca2-4bd4-ae6f-3174aacae061",
   "metadata": {},
   "source": [
    "#### Просматривам столбцы которые имеют знак \"-\""
   ]
  },
  {
   "cell_type": "markdown",
   "id": "327aacd1-097d-4855-8832-0c8cd354ec97",
   "metadata": {},
   "source": [
    "цвет глаз"
   ]
  },
  {
   "cell_type": "code",
   "execution_count": 396,
   "id": "11e559cb-bb33-4de7-af06-bd7ba9506d44",
   "metadata": {},
   "outputs": [
    {
     "data": {
      "text/plain": [
       "Eye color\n",
       "blue                       224\n",
       "-                          163\n",
       "brown                      123\n",
       "green                       73\n",
       "red                         46\n",
       "black                       22\n",
       "yellow                      18\n",
       "white                       17\n",
       "grey                         6\n",
       "hazel                        6\n",
       "purple                       4\n",
       "gold                         3\n",
       "violet                       2\n",
       "yellow (without irises)      2\n",
       "amber                        2\n",
       "white / red                  1\n",
       "yellow / blue                1\n",
       "indigo                       1\n",
       "silver                       1\n",
       "green / blue                 1\n",
       "blue / white                 1\n",
       "yellow / red                 1\n",
       "bown                         1\n",
       "Name: count, dtype: int64"
      ]
     },
     "execution_count": 396,
     "metadata": {},
     "output_type": "execute_result"
    }
   ],
   "source": [
    "df_heroes[\"Eye color\"].value_counts()"
   ]
  },
  {
   "cell_type": "code",
   "execution_count": 397,
   "id": "8b0abbdf-3df7-4c17-a1db-b475d268d728",
   "metadata": {},
   "outputs": [
    {
     "data": {
      "text/plain": [
       "Race\n",
       "-                    297\n",
       "Human                204\n",
       "Mutant                62\n",
       "God / Eternal         14\n",
       "Human / Radiation     11\n",
       "                    ... \n",
       "Rodian                 1\n",
       "Flora Colossus         1\n",
       "Human-Vuldarian        1\n",
       "Gungan                 1\n",
       "Yoda's species         1\n",
       "Name: count, Length: 61, dtype: int64"
      ]
     },
     "execution_count": 397,
     "metadata": {},
     "output_type": "execute_result"
    }
   ],
   "source": [
    "df_heroes[\"Race\"].value_counts()"
   ]
  },
  {
   "cell_type": "markdown",
   "id": "53fd6be5-b468-4064-be68-6c56f95b7274",
   "metadata": {},
   "source": [
    "Волосы"
   ]
  },
  {
   "cell_type": "code",
   "execution_count": 423,
   "id": "81166d89-ea60-4c6c-a439-f930002e26c6",
   "metadata": {},
   "outputs": [
    {
     "data": {
      "text/plain": [
       "Hair color\n",
       "Black               317\n",
       "Blond                99\n",
       "Brown                85\n",
       "No Hair              74\n",
       "Red                  51\n",
       "White                23\n",
       "Auburn               13\n",
       "Green                 8\n",
       "Strawberry Blond      7\n",
       "Purple                5\n",
       "Grey                  5\n",
       "Silver                4\n",
       "Brown / White         4\n",
       "blond                 3\n",
       "black                 3\n",
       "Blue                  3\n",
       "Orange                2\n",
       "Yellow                2\n",
       "Indigo                1\n",
       "Brownn                1\n",
       "Red / White           1\n",
       "Red / Orange          1\n",
       "Gold                  1\n",
       "Magenta               1\n",
       "Orange / White        1\n",
       "Red / Grey            1\n",
       "Brown / Black         1\n",
       "Pink                  1\n",
       "Black / Blue          1\n",
       "Name: count, dtype: int64"
      ]
     },
     "execution_count": 423,
     "metadata": {},
     "output_type": "execute_result"
    }
   ],
   "source": [
    "df_heroes[\"Hair color\"].value_counts()"
   ]
  },
  {
   "cell_type": "code",
   "execution_count": 401,
   "id": "93f34414-c11e-46c7-b204-919b2b46f88d",
   "metadata": {},
   "outputs": [
    {
     "data": {
      "text/plain": [
       "Skin color\n",
       "-                 649\n",
       "green              21\n",
       "blue                9\n",
       "red                 8\n",
       "white               7\n",
       "silver              5\n",
       "grey                4\n",
       "purple              3\n",
       "gold                3\n",
       "yellow              2\n",
       "pink                2\n",
       "red / black         1\n",
       "black               1\n",
       "orange / white      1\n",
       "gray                1\n",
       "blue-white          1\n",
       "orange              1\n",
       "Name: count, dtype: int64"
      ]
     },
     "execution_count": 401,
     "metadata": {},
     "output_type": "execute_result"
    }
   ],
   "source": [
    "df_heroes[\"Skin color\"].value_counts()"
   ]
  },
  {
   "cell_type": "markdown",
   "id": "17838bc8-e66f-445e-83f5-675d15b38f33",
   "metadata": {},
   "source": [
    "Мы просмотрели все столбцы, которые не имеют значения"
   ]
  },
  {
   "cell_type": "markdown",
   "id": "483ac339-c85d-4e5b-a5d1-34dcff0f669e",
   "metadata": {},
   "source": [
    "#### Просматривает, что удалось заполнить пустые значения"
   ]
  },
  {
   "cell_type": "code",
   "execution_count": 406,
   "id": "a7542e1b-0d8b-4906-b4e2-39060c04b5b4",
   "metadata": {},
   "outputs": [],
   "source": [
    "# Замена данных признака Eye color, которые равны '-' на самое популярное значение\n",
    "df_heroes['Eye color'] = df_heroes['Eye color'].str.replace('-', df_heroes['Eye color'].mode()[0])"
   ]
  },
  {
   "cell_type": "code",
   "execution_count": 407,
   "id": "657cd1ec-b0b0-44da-a6d3-3e7dbff2725b",
   "metadata": {},
   "outputs": [],
   "source": [
    "# Замена данных признака Race, которые равны '-' на второе самое популярное значение\n",
    "df_heroes['Race'] = df_heroes['Race'].str.replace('-', df_heroes[df_heroes['Race'] != '-'].Race.mode()[0])"
   ]
  },
  {
   "cell_type": "code",
   "execution_count": 410,
   "id": "3cb60e9f-4699-4661-b91c-22842e7a05a7",
   "metadata": {},
   "outputs": [],
   "source": [
    "# Замена данных признака Scin color, которые равны '-' на значение Alien\n",
    "df_heroes['Skin color'] = df_heroes['Skin color'].str.replace('-', 'Alien')"
   ]
  },
  {
   "cell_type": "code",
   "execution_count": 411,
   "id": "6b8924ba-0143-48e4-bd01-e0ce59daa50c",
   "metadata": {},
   "outputs": [],
   "source": [
    "# Замена данных признака Hair color, которые равны '-' на второе самое популярное значение\n",
    "df_heroes['Hair color'] = df_heroes['Hair color'].str.replace('-', df_heroes[df_heroes['Hair color'] != '-']['Hair color'].mode()[0])"
   ]
  },
  {
   "cell_type": "code",
   "execution_count": 414,
   "id": "37e66f8e-01e8-4b00-94f8-d3343da1c765",
   "metadata": {},
   "outputs": [],
   "source": [
    "#Удалим колонку Unnamed\n",
    "df_heroes.drop('Unnamed: 0', axis = 1, inplace=True)"
   ]
  },
  {
   "cell_type": "code",
   "execution_count": 417,
   "id": "b04867bc-fc97-4166-a376-342efdcbabc0",
   "metadata": {},
   "outputs": [
    {
     "data": {
      "text/html": [
       "<div>\n",
       "<style scoped>\n",
       "    .dataframe tbody tr th:only-of-type {\n",
       "        vertical-align: middle;\n",
       "    }\n",
       "\n",
       "    .dataframe tbody tr th {\n",
       "        vertical-align: top;\n",
       "    }\n",
       "\n",
       "    .dataframe thead th {\n",
       "        text-align: right;\n",
       "    }\n",
       "</style>\n",
       "<table border=\"1\" class=\"dataframe\">\n",
       "  <thead>\n",
       "    <tr style=\"text-align: right;\">\n",
       "      <th></th>\n",
       "      <th>index</th>\n",
       "      <th>name</th>\n",
       "      <th>Gender</th>\n",
       "      <th>Eye color</th>\n",
       "      <th>Race</th>\n",
       "      <th>Hair color</th>\n",
       "      <th>Height</th>\n",
       "      <th>Publisher</th>\n",
       "      <th>Skin color</th>\n",
       "      <th>Alignment</th>\n",
       "      <th>Weight</th>\n",
       "    </tr>\n",
       "  </thead>\n",
       "  <tbody>\n",
       "    <tr>\n",
       "      <th>0</th>\n",
       "      <td>0</td>\n",
       "      <td>A-Bomb</td>\n",
       "      <td>Male</td>\n",
       "      <td>yellow</td>\n",
       "      <td>Human</td>\n",
       "      <td>No Hair</td>\n",
       "      <td>203.0</td>\n",
       "      <td>Marvel Comics</td>\n",
       "      <td>Alien</td>\n",
       "      <td>good</td>\n",
       "      <td>441.0</td>\n",
       "    </tr>\n",
       "    <tr>\n",
       "      <th>1</th>\n",
       "      <td>1</td>\n",
       "      <td>Abe Sapien</td>\n",
       "      <td>Male</td>\n",
       "      <td>blue</td>\n",
       "      <td>Icthyo Sapien</td>\n",
       "      <td>No Hair</td>\n",
       "      <td>191.0</td>\n",
       "      <td>Dark Horse Comics</td>\n",
       "      <td>blue</td>\n",
       "      <td>good</td>\n",
       "      <td>65.0</td>\n",
       "    </tr>\n",
       "    <tr>\n",
       "      <th>2</th>\n",
       "      <td>2</td>\n",
       "      <td>Abin Sur</td>\n",
       "      <td>Male</td>\n",
       "      <td>blue</td>\n",
       "      <td>Ungaran</td>\n",
       "      <td>No Hair</td>\n",
       "      <td>185.0</td>\n",
       "      <td>DC Comics</td>\n",
       "      <td>red</td>\n",
       "      <td>good</td>\n",
       "      <td>90.0</td>\n",
       "    </tr>\n",
       "    <tr>\n",
       "      <th>3</th>\n",
       "      <td>3</td>\n",
       "      <td>Abomination</td>\n",
       "      <td>Male</td>\n",
       "      <td>green</td>\n",
       "      <td>Human / Radiation</td>\n",
       "      <td>No Hair</td>\n",
       "      <td>203.0</td>\n",
       "      <td>Marvel Comics</td>\n",
       "      <td>Alien</td>\n",
       "      <td>bad</td>\n",
       "      <td>441.0</td>\n",
       "    </tr>\n",
       "    <tr>\n",
       "      <th>4</th>\n",
       "      <td>4</td>\n",
       "      <td>Abraxas</td>\n",
       "      <td>Male</td>\n",
       "      <td>blue</td>\n",
       "      <td>Cosmic Entity</td>\n",
       "      <td>Black</td>\n",
       "      <td>-99.0</td>\n",
       "      <td>Marvel Comics</td>\n",
       "      <td>Alien</td>\n",
       "      <td>bad</td>\n",
       "      <td>-99.0</td>\n",
       "    </tr>\n",
       "    <tr>\n",
       "      <th>...</th>\n",
       "      <td>...</td>\n",
       "      <td>...</td>\n",
       "      <td>...</td>\n",
       "      <td>...</td>\n",
       "      <td>...</td>\n",
       "      <td>...</td>\n",
       "      <td>...</td>\n",
       "      <td>...</td>\n",
       "      <td>...</td>\n",
       "      <td>...</td>\n",
       "      <td>...</td>\n",
       "    </tr>\n",
       "    <tr>\n",
       "      <th>714</th>\n",
       "      <td>729</td>\n",
       "      <td>Yellowjacket II</td>\n",
       "      <td>Female</td>\n",
       "      <td>blue</td>\n",
       "      <td>Human</td>\n",
       "      <td>Strawberry Blond</td>\n",
       "      <td>165.0</td>\n",
       "      <td>Marvel Comics</td>\n",
       "      <td>Alien</td>\n",
       "      <td>good</td>\n",
       "      <td>52.0</td>\n",
       "    </tr>\n",
       "    <tr>\n",
       "      <th>715</th>\n",
       "      <td>730</td>\n",
       "      <td>Ymir</td>\n",
       "      <td>Male</td>\n",
       "      <td>white</td>\n",
       "      <td>Frost Giant</td>\n",
       "      <td>No Hair</td>\n",
       "      <td>304.8</td>\n",
       "      <td>Marvel Comics</td>\n",
       "      <td>white</td>\n",
       "      <td>good</td>\n",
       "      <td>-99.0</td>\n",
       "    </tr>\n",
       "    <tr>\n",
       "      <th>716</th>\n",
       "      <td>731</td>\n",
       "      <td>Yoda</td>\n",
       "      <td>Male</td>\n",
       "      <td>brown</td>\n",
       "      <td>Yoda's species</td>\n",
       "      <td>White</td>\n",
       "      <td>66.0</td>\n",
       "      <td>George Lucas</td>\n",
       "      <td>green</td>\n",
       "      <td>good</td>\n",
       "      <td>17.0</td>\n",
       "    </tr>\n",
       "    <tr>\n",
       "      <th>717</th>\n",
       "      <td>732</td>\n",
       "      <td>Zatanna</td>\n",
       "      <td>Female</td>\n",
       "      <td>blue</td>\n",
       "      <td>Human</td>\n",
       "      <td>Black</td>\n",
       "      <td>170.0</td>\n",
       "      <td>DC Comics</td>\n",
       "      <td>Alien</td>\n",
       "      <td>good</td>\n",
       "      <td>57.0</td>\n",
       "    </tr>\n",
       "    <tr>\n",
       "      <th>718</th>\n",
       "      <td>733</td>\n",
       "      <td>Zoom</td>\n",
       "      <td>Male</td>\n",
       "      <td>red</td>\n",
       "      <td>Human</td>\n",
       "      <td>Brown</td>\n",
       "      <td>185.0</td>\n",
       "      <td>DC Comics</td>\n",
       "      <td>Alien</td>\n",
       "      <td>bad</td>\n",
       "      <td>81.0</td>\n",
       "    </tr>\n",
       "  </tbody>\n",
       "</table>\n",
       "<p>719 rows × 11 columns</p>\n",
       "</div>"
      ],
      "text/plain": [
       "     index             name  Gender Eye color               Race  \\\n",
       "0        0           A-Bomb    Male    yellow              Human   \n",
       "1        1       Abe Sapien    Male      blue      Icthyo Sapien   \n",
       "2        2         Abin Sur    Male      blue            Ungaran   \n",
       "3        3      Abomination    Male     green  Human / Radiation   \n",
       "4        4          Abraxas    Male      blue      Cosmic Entity   \n",
       "..     ...              ...     ...       ...                ...   \n",
       "714    729  Yellowjacket II  Female      blue              Human   \n",
       "715    730             Ymir    Male     white        Frost Giant   \n",
       "716    731             Yoda    Male     brown     Yoda's species   \n",
       "717    732          Zatanna  Female      blue              Human   \n",
       "718    733             Zoom    Male       red              Human   \n",
       "\n",
       "           Hair color  Height          Publisher Skin color Alignment  Weight  \n",
       "0             No Hair   203.0      Marvel Comics      Alien      good   441.0  \n",
       "1             No Hair   191.0  Dark Horse Comics       blue      good    65.0  \n",
       "2             No Hair   185.0          DC Comics        red      good    90.0  \n",
       "3             No Hair   203.0      Marvel Comics      Alien       bad   441.0  \n",
       "4               Black   -99.0      Marvel Comics      Alien       bad   -99.0  \n",
       "..                ...     ...                ...        ...       ...     ...  \n",
       "714  Strawberry Blond   165.0      Marvel Comics      Alien      good    52.0  \n",
       "715           No Hair   304.8      Marvel Comics      white      good   -99.0  \n",
       "716             White    66.0       George Lucas      green      good    17.0  \n",
       "717             Black   170.0          DC Comics      Alien      good    57.0  \n",
       "718             Brown   185.0          DC Comics      Alien       bad    81.0  \n",
       "\n",
       "[719 rows x 11 columns]"
      ]
     },
     "execution_count": 417,
     "metadata": {},
     "output_type": "execute_result"
    }
   ],
   "source": [
    "df_heroes"
   ]
  },
  {
   "cell_type": "code",
   "execution_count": 426,
   "id": "3db9a99a-6b08-4a6e-99c8-184bcce2c77f",
   "metadata": {},
   "outputs": [],
   "source": [
    "#Заменяем отрицательные числа на положительные\n",
    "df_heroes[\"Height\"] = df_heroes[\"Height\"].abs()\n",
    "df_heroes[\"Weight\"] = df_heroes[\"Weight\"].abs()"
   ]
  },
  {
   "cell_type": "code",
   "execution_count": 428,
   "id": "37211dc6-c8eb-4053-a1e1-46551ed588a3",
   "metadata": {},
   "outputs": [
    {
     "data": {
      "text/html": [
       "<div>\n",
       "<style scoped>\n",
       "    .dataframe tbody tr th:only-of-type {\n",
       "        vertical-align: middle;\n",
       "    }\n",
       "\n",
       "    .dataframe tbody tr th {\n",
       "        vertical-align: top;\n",
       "    }\n",
       "\n",
       "    .dataframe thead th {\n",
       "        text-align: right;\n",
       "    }\n",
       "</style>\n",
       "<table border=\"1\" class=\"dataframe\">\n",
       "  <thead>\n",
       "    <tr style=\"text-align: right;\">\n",
       "      <th></th>\n",
       "      <th>index</th>\n",
       "      <th>Height</th>\n",
       "      <th>Weight</th>\n",
       "    </tr>\n",
       "  </thead>\n",
       "  <tbody>\n",
       "    <tr>\n",
       "      <th>count</th>\n",
       "      <td>719.000000</td>\n",
       "      <td>719.000000</td>\n",
       "      <td>719.000000</td>\n",
       "    </tr>\n",
       "    <tr>\n",
       "      <th>mean</th>\n",
       "      <td>367.877608</td>\n",
       "      <td>161.716273</td>\n",
       "      <td>108.146036</td>\n",
       "    </tr>\n",
       "    <tr>\n",
       "      <th>std</th>\n",
       "      <td>212.774166</td>\n",
       "      <td>63.896588</td>\n",
       "      <td>86.604001</td>\n",
       "    </tr>\n",
       "    <tr>\n",
       "      <th>min</th>\n",
       "      <td>0.000000</td>\n",
       "      <td>15.200000</td>\n",
       "      <td>2.000000</td>\n",
       "    </tr>\n",
       "    <tr>\n",
       "      <th>25%</th>\n",
       "      <td>183.500000</td>\n",
       "      <td>99.000000</td>\n",
       "      <td>74.000000</td>\n",
       "    </tr>\n",
       "    <tr>\n",
       "      <th>50%</th>\n",
       "      <td>369.000000</td>\n",
       "      <td>175.000000</td>\n",
       "      <td>99.000000</td>\n",
       "    </tr>\n",
       "    <tr>\n",
       "      <th>75%</th>\n",
       "      <td>552.500000</td>\n",
       "      <td>186.500000</td>\n",
       "      <td>99.000000</td>\n",
       "    </tr>\n",
       "    <tr>\n",
       "      <th>max</th>\n",
       "      <td>733.000000</td>\n",
       "      <td>975.000000</td>\n",
       "      <td>900.000000</td>\n",
       "    </tr>\n",
       "  </tbody>\n",
       "</table>\n",
       "</div>"
      ],
      "text/plain": [
       "            index      Height      Weight\n",
       "count  719.000000  719.000000  719.000000\n",
       "mean   367.877608  161.716273  108.146036\n",
       "std    212.774166   63.896588   86.604001\n",
       "min      0.000000   15.200000    2.000000\n",
       "25%    183.500000   99.000000   74.000000\n",
       "50%    369.000000  175.000000   99.000000\n",
       "75%    552.500000  186.500000   99.000000\n",
       "max    733.000000  975.000000  900.000000"
      ]
     },
     "execution_count": 428,
     "metadata": {},
     "output_type": "execute_result"
    }
   ],
   "source": [
    "df_heroes.describe()"
   ]
  },
  {
   "cell_type": "markdown",
   "id": "c47df4e3-c658-4a81-ac0f-f9a0d8495db7",
   "metadata": {},
   "source": [
    "### Шаг 2. Разведочный анализ данных"
   ]
  },
  {
   "cell_type": "code",
   "execution_count": 440,
   "id": "71c807da-e094-4f8a-871b-e5e6051b3205",
   "metadata": {},
   "outputs": [
    {
     "data": {
      "image/png": "[encoded data removed]",
      "text/plain": [
       "<Figure size 1000x500 with 4 Axes>"
      ]
     },
     "metadata": {},
     "output_type": "display_data"
    }
   ],
   "source": [
    "df_heroes.hist(figsize=(10, 5), bins=50);"
   ]
  },
  {
   "cell_type": "code",
   "execution_count": 442,
   "id": "e51b9b8c-9a64-4273-a796-712f261b5a4c",
   "metadata": {},
   "outputs": [
    {
     "data": {
      "text/plain": [
       "<seaborn.axisgrid.PairGrid at 0x27681cfe840>"
      ]
     },
     "execution_count": 442,
     "metadata": {},
     "output_type": "execute_result"
    },
    {
     "data": {
      "image/png": "[encoded data removed]",
      "text/plain": [
       "<Figure size 750x750 with 12 Axes>"
      ]
     },
     "metadata": {},
     "output_type": "display_data"
    }
   ],
   "source": [
    "sns.pairplot(df_heroes)"
   ]
  },
  {
   "cell_type": "markdown",
   "id": "03f375a6-d567-40fb-b136-90b6805bed41",
   "metadata": {},
   "source": [
    "наблюдается небольшая зависимость в Height и Weight"
   ]
  },
  {
   "cell_type": "code",
   "execution_count": 449,
   "id": "6cc3e179-fe9f-4d73-9949-91474daf3513",
   "metadata": {},
   "outputs": [
    {
     "data": {
      "text/plain": [
       "<Axes: >"
      ]
     },
     "execution_count": 449,
     "metadata": {},
     "output_type": "execute_result"
    },
    {
     "data": {
      "image/png": "[encoded data removed]",
      "text/plain": [
       "<Figure size 640x480 with 2 Axes>"
      ]
     },
     "metadata": {},
     "output_type": "display_data"
    }
   ],
   "source": [
    "sns.heatmap(df_heroes[['Height', 'Weight']].corr(), annot=True)"
   ]
  },
  {
   "cell_type": "markdown",
   "id": "f63e2f38-9dd5-41d7-ad2e-ace06c9ae2dc",
   "metadata": {},
   "source": [
    "### Шаг 3. Заклюение"
   ]
  },
  {
   "cell_type": "markdown",
   "id": "89526182-8fcb-42fb-9571-9259b7582ed3",
   "metadata": {},
   "source": [
    "`1`. Был загружен набор данных. Первые наблюдения показали, что в наборе данных есть пропуски и имеются аномальные значения. Статистика показала, что значения во всех признаках находятся не в пределах нормы.\n",
    "\n",
    "`2`. Проведена предобработка данных. Обработали пропущенные значения и аномальные значения.\n",
    "\n",
    "`3`. Провели разведочный анализ данных. Наблюдается небольшая зависимость между признаком Weight и Height. На рост персонажа влияет вес."
   ]
  },
  {
   "cell_type": "code",
   "execution_count": null,
   "id": "d1282b27-2837-4cdf-ab8d-4af0be36ba02",
   "metadata": {},
   "outputs": [],
   "source": []
  }
 ],
 "metadata": {
  "kernelspec": {
   "display_name": "Python 3 (ipykernel)",
   "language": "python",
   "name": "python3"
  },
  "language_info": {
   "codemirror_mode": {
    "name": "ipython",
    "version": 3
   },
   "file_extension": ".py",
   "mimetype": "text/x-python",
   "name": "python",
   "nbconvert_exporter": "python",
   "pygments_lexer": "ipython3",
   "version": "3.12.4"
  }
 },
 "nbformat": 4,
 "nbformat_minor": 5
}
